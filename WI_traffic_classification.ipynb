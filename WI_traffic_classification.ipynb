{
  "nbformat": 4,
  "nbformat_minor": 0,
  "metadata": {
    "colab": {
      "provenance": []
    },
    "kernelspec": {
      "name": "python3",
      "display_name": "Python 3"
    },
    "language_info": {
      "name": "python"
    }
  },
  "cells": [
    {
      "cell_type": "markdown",
      "source": [
        "### Autore: Ahmed Riaz Luis\n",
        "### Codice persona: 10372022"
      ],
      "metadata": {
        "id": "m7rX9PCcjSOB"
      }
    },
    {
      "cell_type": "markdown",
      "source": [
        "##Wi-Fi encrypted traffic classification\n",
        "\n",
        "implement a machine-learning classifier able\n",
        "to distinguish what kind of activity a user is performing with his/her\n",
        "smartphone/laptop by sniffing traffic in monitor mode. The system should perform\n",
        "the following operations:\n",
        "<ul>\n",
        "<li> Sniff traffic in monitor mode from a known MAC address </li>\n",
        "<li> Extract statistical features from the traffic every W seconds. The following\n",
        "traffic features can be extracted: number of packets up/down, average and\n",
        "variance of the packet size, average and variance of the inter-arrival packet\n",
        "times etc.\n",
        "<li> Use a pre-trained machine-learning classifier of your choice to recognize the\n",
        "user activity among at least the following: idle, web browsing, YouTube\n",
        "streaming.</li>\n",
        "<li> Report the accuracy of the approach through a confusion matrix </br>\n",
        "Reference: https://ieeexplore.ieee.org/abstract/document/8543584 </li>\n",
        "</ul>\n",
        "\n"
      ],
      "metadata": {
        "id": "xKp-xx-UgcVq"
      }
    },
    {
      "cell_type": "markdown",
      "source": [
        "As a first step we mount the google drive folder with our captures. Note that we could as well manually upload the captures to the colab files folder but the former option was preferred because it avoids wasting time at every runtime restart and it's also simpler because it allows the code to work directly on the folder (cycling through the filenames) without needing to create everytime a new folder with the captures (colab doesn't allow to upload folders directly on the workspace but only in the google drive storage)"
      ],
      "metadata": {
        "id": "0nU2bup2W7fv"
      }
    },
    {
      "cell_type": "code",
      "execution_count": 1,
      "metadata": {
        "id": "Ajye0nOsgaAW",
        "colab": {
          "base_uri": "https://localhost:8080/",
          "height": 0
        },
        "outputId": "a584ffb7-3ef5-4bcc-8e92-68cd50f0950c"
      },
      "outputs": [
        {
          "output_type": "stream",
          "name": "stdout",
          "text": [
            "Mounted at /content/drive\n"
          ]
        }
      ],
      "source": [
        "from google.colab import drive\n",
        "import pandas as pd\n",
        "\n",
        "#if mounted from google drive\n",
        "drive.mount('/content/drive')"
      ]
    },
    {
      "cell_type": "markdown",
      "source": [
        "####Method used for the capture\n",
        "802.11 frames were captured by putting the wireless interface of the device in monitor mode. This was accomplished in Ubuntu 22.04 OS by writing the following commands in the terminal:\n",
        "\n",
        "*sudo iwconfig wlo1* -- configuration and channel used in network connection <br>\n",
        "*sudo iwlist wlo1 channel* -- list of available 802.11 channels <br>\n",
        "*sudo airmon-ng check kill* - kill network manager <br>\n",
        "*sudo airmon-ng start wlo1* x\t-- start wlo1mon at channel “x” (x can be 1, 6, 52 for example) <br>\n",
        "*sudo wireshark* -- start wireshark <br>\n",
        "*sudo airmon-ng stop wlo1mon* – stop airmon-ng wlo1mon <br>\n",
        "*sudo service NetworkManager start * --restart network manager to enable wifi\n",
        "\n",
        "In the configuration of the network connection it could be noticed that channel 52 was being used for frames exchange by the selected router and the devices connected to it, although beacon frames were also sent through other channels; as a result the wlo1mon monitoring interface was started at channel 52. Captures were done every 20 seconds. Different actions were performed during the capture:\n",
        "<ul>\n",
        "<li>youtube video streaming</li>\n",
        "<li>web browsing</li>\n",
        "<li>idle (screen off)</li>\n",
        "<li>whatsapp call</li>\n",
        "</ul>\n",
        "\n",
        "The target devices are a Xiaomi phone and a ZyxelCom router. <br>\n",
        "A sample of the captured frames is displayed."
      ],
      "metadata": {
        "id": "siBOihLWnTbY"
      }
    },
    {
      "cell_type": "code",
      "source": [
        "df = pd.read_csv('/content/drive/MyDrive/WI_traffic_captures_new/browsing_1.csv')\n",
        "display(df)"
      ],
      "metadata": {
        "colab": {
          "base_uri": "https://localhost:8080/",
          "height": 423
        },
        "id": "vYRuCfXgnRHw",
        "outputId": "0e78da66-f5d9-48ad-f956-6556f8532e00"
      },
      "execution_count": 2,
      "outputs": [
        {
          "output_type": "display_data",
          "data": {
            "text/plain": [
              "       No.       Time             Source  \\\n",
              "0        1   0.000000  ZyxelCom_6a:85:02   \n",
              "1        2   0.080242  22:19:54:71:1a:09   \n",
              "2        3   0.102566  ZyxelCom_6a:85:02   \n",
              "3        4   0.182292  22:19:54:71:1a:09   \n",
              "4        5   0.182881  22:19:54:71:1a:0b   \n",
              "...    ...        ...                ...   \n",
              "4756  4757  20.008547  XiaomiCo_72:b0:52   \n",
              "4757  4758  20.008573                NaN   \n",
              "4758  4759  20.033763  XiaomiCo_72:b0:52   \n",
              "4759  4760  20.033795                NaN   \n",
              "4760  4761  20.071819  ZyxelCom_6a:85:02   \n",
              "\n",
              "                                     Destination Protocol  Length  \\\n",
              "0                                      Broadcast   802.11     414   \n",
              "1                                      Broadcast   802.11     474   \n",
              "2                                      Broadcast   802.11     414   \n",
              "3                                      Broadcast   802.11     474   \n",
              "4                                      Broadcast   802.11     432   \n",
              "...                                          ...      ...     ...   \n",
              "4756                           ZyxelCom_6a:85:02   802.11      86   \n",
              "4757  XiaomiCo_72:b0:52 (64:a2:00:72:b0:52) (RA)   802.11      70   \n",
              "4758                           ZyxelCom_6a:85:02   802.11      86   \n",
              "4759  XiaomiCo_72:b0:52 (64:a2:00:72:b0:52) (RA)   802.11      70   \n",
              "4760                                   Broadcast   802.11     414   \n",
              "\n",
              "                                                   Info  \n",
              "0     Beacon frame, SN=1289, FN=0, Flags=........C, ...  \n",
              "1     Beacon frame, SN=1602, FN=0, Flags=........C, ...  \n",
              "2     Beacon frame, SN=1290, FN=0, Flags=........C, ...  \n",
              "3     Beacon frame, SN=1603, FN=0, Flags=........C, ...  \n",
              "4     Beacon frame, SN=2063, FN=0, Flags=........C, ...  \n",
              "...                                                 ...  \n",
              "4756  QoS Null function (No data), SN=1411, FN=0, Fl...  \n",
              "4757                   Acknowledgement, Flags=........C  \n",
              "4758  QoS Null function (No data), SN=1412, FN=0, Fl...  \n",
              "4759                   Acknowledgement, Flags=........C  \n",
              "4760  Beacon frame, SN=1512, FN=0, Flags=........C, ...  \n",
              "\n",
              "[4761 rows x 7 columns]"
            ],
            "text/html": [
              "\n",
              "  <div id=\"df-5152f286-f79d-4cea-8853-e26113ced224\" class=\"colab-df-container\">\n",
              "    <div>\n",
              "<style scoped>\n",
              "    .dataframe tbody tr th:only-of-type {\n",
              "        vertical-align: middle;\n",
              "    }\n",
              "\n",
              "    .dataframe tbody tr th {\n",
              "        vertical-align: top;\n",
              "    }\n",
              "\n",
              "    .dataframe thead th {\n",
              "        text-align: right;\n",
              "    }\n",
              "</style>\n",
              "<table border=\"1\" class=\"dataframe\">\n",
              "  <thead>\n",
              "    <tr style=\"text-align: right;\">\n",
              "      <th></th>\n",
              "      <th>No.</th>\n",
              "      <th>Time</th>\n",
              "      <th>Source</th>\n",
              "      <th>Destination</th>\n",
              "      <th>Protocol</th>\n",
              "      <th>Length</th>\n",
              "      <th>Info</th>\n",
              "    </tr>\n",
              "  </thead>\n",
              "  <tbody>\n",
              "    <tr>\n",
              "      <th>0</th>\n",
              "      <td>1</td>\n",
              "      <td>0.000000</td>\n",
              "      <td>ZyxelCom_6a:85:02</td>\n",
              "      <td>Broadcast</td>\n",
              "      <td>802.11</td>\n",
              "      <td>414</td>\n",
              "      <td>Beacon frame, SN=1289, FN=0, Flags=........C, ...</td>\n",
              "    </tr>\n",
              "    <tr>\n",
              "      <th>1</th>\n",
              "      <td>2</td>\n",
              "      <td>0.080242</td>\n",
              "      <td>22:19:54:71:1a:09</td>\n",
              "      <td>Broadcast</td>\n",
              "      <td>802.11</td>\n",
              "      <td>474</td>\n",
              "      <td>Beacon frame, SN=1602, FN=0, Flags=........C, ...</td>\n",
              "    </tr>\n",
              "    <tr>\n",
              "      <th>2</th>\n",
              "      <td>3</td>\n",
              "      <td>0.102566</td>\n",
              "      <td>ZyxelCom_6a:85:02</td>\n",
              "      <td>Broadcast</td>\n",
              "      <td>802.11</td>\n",
              "      <td>414</td>\n",
              "      <td>Beacon frame, SN=1290, FN=0, Flags=........C, ...</td>\n",
              "    </tr>\n",
              "    <tr>\n",
              "      <th>3</th>\n",
              "      <td>4</td>\n",
              "      <td>0.182292</td>\n",
              "      <td>22:19:54:71:1a:09</td>\n",
              "      <td>Broadcast</td>\n",
              "      <td>802.11</td>\n",
              "      <td>474</td>\n",
              "      <td>Beacon frame, SN=1603, FN=0, Flags=........C, ...</td>\n",
              "    </tr>\n",
              "    <tr>\n",
              "      <th>4</th>\n",
              "      <td>5</td>\n",
              "      <td>0.182881</td>\n",
              "      <td>22:19:54:71:1a:0b</td>\n",
              "      <td>Broadcast</td>\n",
              "      <td>802.11</td>\n",
              "      <td>432</td>\n",
              "      <td>Beacon frame, SN=2063, FN=0, Flags=........C, ...</td>\n",
              "    </tr>\n",
              "    <tr>\n",
              "      <th>...</th>\n",
              "      <td>...</td>\n",
              "      <td>...</td>\n",
              "      <td>...</td>\n",
              "      <td>...</td>\n",
              "      <td>...</td>\n",
              "      <td>...</td>\n",
              "      <td>...</td>\n",
              "    </tr>\n",
              "    <tr>\n",
              "      <th>4756</th>\n",
              "      <td>4757</td>\n",
              "      <td>20.008547</td>\n",
              "      <td>XiaomiCo_72:b0:52</td>\n",
              "      <td>ZyxelCom_6a:85:02</td>\n",
              "      <td>802.11</td>\n",
              "      <td>86</td>\n",
              "      <td>QoS Null function (No data), SN=1411, FN=0, Fl...</td>\n",
              "    </tr>\n",
              "    <tr>\n",
              "      <th>4757</th>\n",
              "      <td>4758</td>\n",
              "      <td>20.008573</td>\n",
              "      <td>NaN</td>\n",
              "      <td>XiaomiCo_72:b0:52 (64:a2:00:72:b0:52) (RA)</td>\n",
              "      <td>802.11</td>\n",
              "      <td>70</td>\n",
              "      <td>Acknowledgement, Flags=........C</td>\n",
              "    </tr>\n",
              "    <tr>\n",
              "      <th>4758</th>\n",
              "      <td>4759</td>\n",
              "      <td>20.033763</td>\n",
              "      <td>XiaomiCo_72:b0:52</td>\n",
              "      <td>ZyxelCom_6a:85:02</td>\n",
              "      <td>802.11</td>\n",
              "      <td>86</td>\n",
              "      <td>QoS Null function (No data), SN=1412, FN=0, Fl...</td>\n",
              "    </tr>\n",
              "    <tr>\n",
              "      <th>4759</th>\n",
              "      <td>4760</td>\n",
              "      <td>20.033795</td>\n",
              "      <td>NaN</td>\n",
              "      <td>XiaomiCo_72:b0:52 (64:a2:00:72:b0:52) (RA)</td>\n",
              "      <td>802.11</td>\n",
              "      <td>70</td>\n",
              "      <td>Acknowledgement, Flags=........C</td>\n",
              "    </tr>\n",
              "    <tr>\n",
              "      <th>4760</th>\n",
              "      <td>4761</td>\n",
              "      <td>20.071819</td>\n",
              "      <td>ZyxelCom_6a:85:02</td>\n",
              "      <td>Broadcast</td>\n",
              "      <td>802.11</td>\n",
              "      <td>414</td>\n",
              "      <td>Beacon frame, SN=1512, FN=0, Flags=........C, ...</td>\n",
              "    </tr>\n",
              "  </tbody>\n",
              "</table>\n",
              "<p>4761 rows × 7 columns</p>\n",
              "</div>\n",
              "    <div class=\"colab-df-buttons\">\n",
              "\n",
              "  <div class=\"colab-df-container\">\n",
              "    <button class=\"colab-df-convert\" onclick=\"convertToInteractive('df-5152f286-f79d-4cea-8853-e26113ced224')\"\n",
              "            title=\"Convert this dataframe to an interactive table.\"\n",
              "            style=\"display:none;\">\n",
              "\n",
              "  <svg xmlns=\"http://www.w3.org/2000/svg\" height=\"24px\" viewBox=\"0 -960 960 960\">\n",
              "    <path d=\"M120-120v-720h720v720H120Zm60-500h600v-160H180v160Zm220 220h160v-160H400v160Zm0 220h160v-160H400v160ZM180-400h160v-160H180v160Zm440 0h160v-160H620v160ZM180-180h160v-160H180v160Zm440 0h160v-160H620v160Z\"/>\n",
              "  </svg>\n",
              "    </button>\n",
              "\n",
              "  <style>\n",
              "    .colab-df-container {\n",
              "      display:flex;\n",
              "      gap: 12px;\n",
              "    }\n",
              "\n",
              "    .colab-df-convert {\n",
              "      background-color: #E8F0FE;\n",
              "      border: none;\n",
              "      border-radius: 50%;\n",
              "      cursor: pointer;\n",
              "      display: none;\n",
              "      fill: #1967D2;\n",
              "      height: 32px;\n",
              "      padding: 0 0 0 0;\n",
              "      width: 32px;\n",
              "    }\n",
              "\n",
              "    .colab-df-convert:hover {\n",
              "      background-color: #E2EBFA;\n",
              "      box-shadow: 0px 1px 2px rgba(60, 64, 67, 0.3), 0px 1px 3px 1px rgba(60, 64, 67, 0.15);\n",
              "      fill: #174EA6;\n",
              "    }\n",
              "\n",
              "    .colab-df-buttons div {\n",
              "      margin-bottom: 4px;\n",
              "    }\n",
              "\n",
              "    [theme=dark] .colab-df-convert {\n",
              "      background-color: #3B4455;\n",
              "      fill: #D2E3FC;\n",
              "    }\n",
              "\n",
              "    [theme=dark] .colab-df-convert:hover {\n",
              "      background-color: #434B5C;\n",
              "      box-shadow: 0px 1px 3px 1px rgba(0, 0, 0, 0.15);\n",
              "      filter: drop-shadow(0px 1px 2px rgba(0, 0, 0, 0.3));\n",
              "      fill: #FFFFFF;\n",
              "    }\n",
              "  </style>\n",
              "\n",
              "    <script>\n",
              "      const buttonEl =\n",
              "        document.querySelector('#df-5152f286-f79d-4cea-8853-e26113ced224 button.colab-df-convert');\n",
              "      buttonEl.style.display =\n",
              "        google.colab.kernel.accessAllowed ? 'block' : 'none';\n",
              "\n",
              "      async function convertToInteractive(key) {\n",
              "        const element = document.querySelector('#df-5152f286-f79d-4cea-8853-e26113ced224');\n",
              "        const dataTable =\n",
              "          await google.colab.kernel.invokeFunction('convertToInteractive',\n",
              "                                                    [key], {});\n",
              "        if (!dataTable) return;\n",
              "\n",
              "        const docLinkHtml = 'Like what you see? Visit the ' +\n",
              "          '<a target=\"_blank\" href=https://colab.research.google.com/notebooks/data_table.ipynb>data table notebook</a>'\n",
              "          + ' to learn more about interactive tables.';\n",
              "        element.innerHTML = '';\n",
              "        dataTable['output_type'] = 'display_data';\n",
              "        await google.colab.output.renderOutput(dataTable, element);\n",
              "        const docLink = document.createElement('div');\n",
              "        docLink.innerHTML = docLinkHtml;\n",
              "        element.appendChild(docLink);\n",
              "      }\n",
              "    </script>\n",
              "  </div>\n",
              "\n",
              "\n",
              "<div id=\"df-cc650544-658e-44bc-b5ea-7e26ead3d6e9\">\n",
              "  <button class=\"colab-df-quickchart\" onclick=\"quickchart('df-cc650544-658e-44bc-b5ea-7e26ead3d6e9')\"\n",
              "            title=\"Suggest charts.\"\n",
              "            style=\"display:none;\">\n",
              "\n",
              "<svg xmlns=\"http://www.w3.org/2000/svg\" height=\"24px\"viewBox=\"0 0 24 24\"\n",
              "     width=\"24px\">\n",
              "    <g>\n",
              "        <path d=\"M19 3H5c-1.1 0-2 .9-2 2v14c0 1.1.9 2 2 2h14c1.1 0 2-.9 2-2V5c0-1.1-.9-2-2-2zM9 17H7v-7h2v7zm4 0h-2V7h2v10zm4 0h-2v-4h2v4z\"/>\n",
              "    </g>\n",
              "</svg>\n",
              "  </button>\n",
              "\n",
              "<style>\n",
              "  .colab-df-quickchart {\n",
              "      --bg-color: #E8F0FE;\n",
              "      --fill-color: #1967D2;\n",
              "      --hover-bg-color: #E2EBFA;\n",
              "      --hover-fill-color: #174EA6;\n",
              "      --disabled-fill-color: #AAA;\n",
              "      --disabled-bg-color: #DDD;\n",
              "  }\n",
              "\n",
              "  [theme=dark] .colab-df-quickchart {\n",
              "      --bg-color: #3B4455;\n",
              "      --fill-color: #D2E3FC;\n",
              "      --hover-bg-color: #434B5C;\n",
              "      --hover-fill-color: #FFFFFF;\n",
              "      --disabled-bg-color: #3B4455;\n",
              "      --disabled-fill-color: #666;\n",
              "  }\n",
              "\n",
              "  .colab-df-quickchart {\n",
              "    background-color: var(--bg-color);\n",
              "    border: none;\n",
              "    border-radius: 50%;\n",
              "    cursor: pointer;\n",
              "    display: none;\n",
              "    fill: var(--fill-color);\n",
              "    height: 32px;\n",
              "    padding: 0;\n",
              "    width: 32px;\n",
              "  }\n",
              "\n",
              "  .colab-df-quickchart:hover {\n",
              "    background-color: var(--hover-bg-color);\n",
              "    box-shadow: 0 1px 2px rgba(60, 64, 67, 0.3), 0 1px 3px 1px rgba(60, 64, 67, 0.15);\n",
              "    fill: var(--button-hover-fill-color);\n",
              "  }\n",
              "\n",
              "  .colab-df-quickchart-complete:disabled,\n",
              "  .colab-df-quickchart-complete:disabled:hover {\n",
              "    background-color: var(--disabled-bg-color);\n",
              "    fill: var(--disabled-fill-color);\n",
              "    box-shadow: none;\n",
              "  }\n",
              "\n",
              "  .colab-df-spinner {\n",
              "    border: 2px solid var(--fill-color);\n",
              "    border-color: transparent;\n",
              "    border-bottom-color: var(--fill-color);\n",
              "    animation:\n",
              "      spin 1s steps(1) infinite;\n",
              "  }\n",
              "\n",
              "  @keyframes spin {\n",
              "    0% {\n",
              "      border-color: transparent;\n",
              "      border-bottom-color: var(--fill-color);\n",
              "      border-left-color: var(--fill-color);\n",
              "    }\n",
              "    20% {\n",
              "      border-color: transparent;\n",
              "      border-left-color: var(--fill-color);\n",
              "      border-top-color: var(--fill-color);\n",
              "    }\n",
              "    30% {\n",
              "      border-color: transparent;\n",
              "      border-left-color: var(--fill-color);\n",
              "      border-top-color: var(--fill-color);\n",
              "      border-right-color: var(--fill-color);\n",
              "    }\n",
              "    40% {\n",
              "      border-color: transparent;\n",
              "      border-right-color: var(--fill-color);\n",
              "      border-top-color: var(--fill-color);\n",
              "    }\n",
              "    60% {\n",
              "      border-color: transparent;\n",
              "      border-right-color: var(--fill-color);\n",
              "    }\n",
              "    80% {\n",
              "      border-color: transparent;\n",
              "      border-right-color: var(--fill-color);\n",
              "      border-bottom-color: var(--fill-color);\n",
              "    }\n",
              "    90% {\n",
              "      border-color: transparent;\n",
              "      border-bottom-color: var(--fill-color);\n",
              "    }\n",
              "  }\n",
              "</style>\n",
              "\n",
              "  <script>\n",
              "    async function quickchart(key) {\n",
              "      const quickchartButtonEl =\n",
              "        document.querySelector('#' + key + ' button');\n",
              "      quickchartButtonEl.disabled = true;  // To prevent multiple clicks.\n",
              "      quickchartButtonEl.classList.add('colab-df-spinner');\n",
              "      try {\n",
              "        const charts = await google.colab.kernel.invokeFunction(\n",
              "            'suggestCharts', [key], {});\n",
              "      } catch (error) {\n",
              "        console.error('Error during call to suggestCharts:', error);\n",
              "      }\n",
              "      quickchartButtonEl.classList.remove('colab-df-spinner');\n",
              "      quickchartButtonEl.classList.add('colab-df-quickchart-complete');\n",
              "    }\n",
              "    (() => {\n",
              "      let quickchartButtonEl =\n",
              "        document.querySelector('#df-cc650544-658e-44bc-b5ea-7e26ead3d6e9 button');\n",
              "      quickchartButtonEl.style.display =\n",
              "        google.colab.kernel.accessAllowed ? 'block' : 'none';\n",
              "    })();\n",
              "  </script>\n",
              "</div>\n",
              "    </div>\n",
              "  </div>\n"
            ]
          },
          "metadata": {}
        }
      ]
    },
    {
      "cell_type": "markdown",
      "source": [
        "  #### Features extraction\n",
        " The extract_features function takes into account the time difference between the arrivals of the packets of a single frame, namely it computes the minimum, maximum, average, standard deviation of the inter-arrival times in the frame.\n"
      ],
      "metadata": {
        "id": "x7iIh80Niwms"
      }
    },
    {
      "cell_type": "code",
      "source": [
        "def extract_features(flow,df_flow):\n",
        "\n",
        "  flow_features = {}\n",
        "\n",
        "  iat = pd.to_datetime(df_flow['Time']).diff(1).dt.total_seconds().iloc[1:] #\n",
        "  flow_features['min_iat'] = iat.min()\n",
        "  flow_features['max_iat'] = iat.max()\n",
        "  flow_features['mean_iat'] = iat.mean()\n",
        "  flow_features['std_iat'] = iat.std()\n",
        "\n",
        "  return flow_features\n"
      ],
      "metadata": {
        "id": "Fk-q-Q_XocjU"
      },
      "execution_count": 3,
      "outputs": []
    },
    {
      "cell_type": "markdown",
      "source": [
        "#### Dataset creation\n",
        "The dataset is prepared by parsing all the files in the google-drive directory and by creating, for each file, a group of 802.11 flows which is then appended to the dataset with a label taken from the name of the file itself. Note that only downlink flows with addresses of the target devices were chosen to be appended to the dataset."
      ],
      "metadata": {
        "id": "wD1HM_IloXi_"
      }
    },
    {
      "cell_type": "code",
      "source": [
        "from os import listdir\n",
        "from os.path import isfile, join\n",
        "import numpy as np\n",
        "\n",
        "path = '/content/drive/MyDrive/WI_traffic_captures_new' #path to the google-drive directory\n",
        "dir_files = [f for f in listdir(path) if isfile(join(path, f))] #collect the filenames in the dir_files array\n",
        "apps = np.unique([f.split('_')[0] for f in dir_files])\n",
        "\n",
        "dataset = pd.DataFrame() #a new dataset pandas data frame is created\n",
        "\n",
        "#Reads all the files in the google-drive directory and creates multiple flows for each file, each of which is a structure made by an array\n",
        "#which represents the fields selected for the grouping ('Source' and 'Destination) and the data frame with the grouped frames.\n",
        "#The features which are useful for the classification are extracted through the extract_features function and a new flow_features frame\n",
        "#is created, the label is added to the frame by parsing the filename of the file from which the flow was created and the newly created frame is appended to\n",
        "#the dataset data frame previously created.\n",
        "for f in dir_files:\n",
        "  print('Processing file  ', f)\n",
        "  df = pd.read_csv(join(path,f))\n",
        "  df_flows = df.groupby([\"Source\",\"Destination\"])\n",
        "  for flow,df_flow in df_flows: #flow is a tuple representing the flow, df_flow is the dataframe with all packets of the flow\n",
        "    flow_features = extract_features(flow,df_flow)\n",
        "    flow_features['app'] = f.split('_')[0];\n",
        "    if((flow[0].split('_')[0]=='ZyxelCom' and flow[1].split('_')[0]=='XiaomiCo')): #only downlink flows are considered\n",
        "      dataset = dataset.append(flow_features,ignore_index=True);\n",
        "\n",
        "\n",
        "display(dataset)"
      ],
      "metadata": {
        "id": "DBNj54F5oWkI",
        "colab": {
          "base_uri": "https://localhost:8080/",
          "height": 8115
        },
        "outputId": "0eb2cea8-3396-42e6-b867-7b692c520f86"
      },
      "execution_count": 4,
      "outputs": [
        {
          "output_type": "stream",
          "name": "stdout",
          "text": [
            "Processing file   idle_16.csv\n"
          ]
        },
        {
          "output_type": "stream",
          "name": "stderr",
          "text": [
            "<ipython-input-4-3a7dd4a9c83c>:24: FutureWarning: The frame.append method is deprecated and will be removed from pandas in a future version. Use pandas.concat instead.\n",
            "  dataset = dataset.append(flow_features,ignore_index=True);\n"
          ]
        },
        {
          "output_type": "stream",
          "name": "stdout",
          "text": [
            "Processing file   idle_25.csv\n",
            "Processing file   idle_33.csv\n"
          ]
        },
        {
          "output_type": "stream",
          "name": "stderr",
          "text": [
            "<ipython-input-4-3a7dd4a9c83c>:24: FutureWarning: The frame.append method is deprecated and will be removed from pandas in a future version. Use pandas.concat instead.\n",
            "  dataset = dataset.append(flow_features,ignore_index=True);\n",
            "<ipython-input-4-3a7dd4a9c83c>:24: FutureWarning: The frame.append method is deprecated and will be removed from pandas in a future version. Use pandas.concat instead.\n",
            "  dataset = dataset.append(flow_features,ignore_index=True);\n"
          ]
        },
        {
          "output_type": "stream",
          "name": "stdout",
          "text": [
            "Processing file   youtube_14.csv\n",
            "Processing file   youtube_6.csv\n"
          ]
        },
        {
          "output_type": "stream",
          "name": "stderr",
          "text": [
            "<ipython-input-4-3a7dd4a9c83c>:24: FutureWarning: The frame.append method is deprecated and will be removed from pandas in a future version. Use pandas.concat instead.\n",
            "  dataset = dataset.append(flow_features,ignore_index=True);\n",
            "<ipython-input-4-3a7dd4a9c83c>:24: FutureWarning: The frame.append method is deprecated and will be removed from pandas in a future version. Use pandas.concat instead.\n",
            "  dataset = dataset.append(flow_features,ignore_index=True);\n"
          ]
        },
        {
          "output_type": "stream",
          "name": "stdout",
          "text": [
            "Processing file   idle_18.csv\n",
            "Processing file   idle_31.csv\n",
            "Processing file   whatsapp_22.csv\n"
          ]
        },
        {
          "output_type": "stream",
          "name": "stderr",
          "text": [
            "<ipython-input-4-3a7dd4a9c83c>:24: FutureWarning: The frame.append method is deprecated and will be removed from pandas in a future version. Use pandas.concat instead.\n",
            "  dataset = dataset.append(flow_features,ignore_index=True);\n",
            "<ipython-input-4-3a7dd4a9c83c>:24: FutureWarning: The frame.append method is deprecated and will be removed from pandas in a future version. Use pandas.concat instead.\n",
            "  dataset = dataset.append(flow_features,ignore_index=True);\n",
            "<ipython-input-4-3a7dd4a9c83c>:24: FutureWarning: The frame.append method is deprecated and will be removed from pandas in a future version. Use pandas.concat instead.\n",
            "  dataset = dataset.append(flow_features,ignore_index=True);\n",
            "<ipython-input-4-3a7dd4a9c83c>:24: FutureWarning: The frame.append method is deprecated and will be removed from pandas in a future version. Use pandas.concat instead.\n",
            "  dataset = dataset.append(flow_features,ignore_index=True);\n"
          ]
        },
        {
          "output_type": "stream",
          "name": "stdout",
          "text": [
            "Processing file   idle_13.csv\n",
            "Processing file   whatsapp_27.csv\n"
          ]
        },
        {
          "output_type": "stream",
          "name": "stderr",
          "text": [
            "<ipython-input-4-3a7dd4a9c83c>:24: FutureWarning: The frame.append method is deprecated and will be removed from pandas in a future version. Use pandas.concat instead.\n",
            "  dataset = dataset.append(flow_features,ignore_index=True);\n",
            "<ipython-input-4-3a7dd4a9c83c>:24: FutureWarning: The frame.append method is deprecated and will be removed from pandas in a future version. Use pandas.concat instead.\n",
            "  dataset = dataset.append(flow_features,ignore_index=True);\n"
          ]
        },
        {
          "output_type": "stream",
          "name": "stdout",
          "text": [
            "Processing file   whatsapp_7.csv\n",
            "Processing file   youtube_22.csv\n"
          ]
        },
        {
          "output_type": "stream",
          "name": "stderr",
          "text": [
            "<ipython-input-4-3a7dd4a9c83c>:24: FutureWarning: The frame.append method is deprecated and will be removed from pandas in a future version. Use pandas.concat instead.\n",
            "  dataset = dataset.append(flow_features,ignore_index=True);\n",
            "<ipython-input-4-3a7dd4a9c83c>:24: FutureWarning: The frame.append method is deprecated and will be removed from pandas in a future version. Use pandas.concat instead.\n",
            "  dataset = dataset.append(flow_features,ignore_index=True);\n"
          ]
        },
        {
          "output_type": "stream",
          "name": "stdout",
          "text": [
            "Processing file   youtube_4.csv\n",
            "Processing file   youtube_18.csv\n"
          ]
        },
        {
          "output_type": "stream",
          "name": "stderr",
          "text": [
            "<ipython-input-4-3a7dd4a9c83c>:24: FutureWarning: The frame.append method is deprecated and will be removed from pandas in a future version. Use pandas.concat instead.\n",
            "  dataset = dataset.append(flow_features,ignore_index=True);\n",
            "<ipython-input-4-3a7dd4a9c83c>:24: FutureWarning: The frame.append method is deprecated and will be removed from pandas in a future version. Use pandas.concat instead.\n",
            "  dataset = dataset.append(flow_features,ignore_index=True);\n"
          ]
        },
        {
          "output_type": "stream",
          "name": "stdout",
          "text": [
            "Processing file   idle_5.csv\n",
            "Processing file   youtube_9.csv\n"
          ]
        },
        {
          "output_type": "stream",
          "name": "stderr",
          "text": [
            "<ipython-input-4-3a7dd4a9c83c>:24: FutureWarning: The frame.append method is deprecated and will be removed from pandas in a future version. Use pandas.concat instead.\n",
            "  dataset = dataset.append(flow_features,ignore_index=True);\n",
            "<ipython-input-4-3a7dd4a9c83c>:24: FutureWarning: The frame.append method is deprecated and will be removed from pandas in a future version. Use pandas.concat instead.\n",
            "  dataset = dataset.append(flow_features,ignore_index=True);\n"
          ]
        },
        {
          "output_type": "stream",
          "name": "stdout",
          "text": [
            "Processing file   whatsapp_26.csv\n",
            "Processing file   whatsapp_28.csv\n"
          ]
        },
        {
          "output_type": "stream",
          "name": "stderr",
          "text": [
            "<ipython-input-4-3a7dd4a9c83c>:24: FutureWarning: The frame.append method is deprecated and will be removed from pandas in a future version. Use pandas.concat instead.\n",
            "  dataset = dataset.append(flow_features,ignore_index=True);\n",
            "<ipython-input-4-3a7dd4a9c83c>:24: FutureWarning: The frame.append method is deprecated and will be removed from pandas in a future version. Use pandas.concat instead.\n",
            "  dataset = dataset.append(flow_features,ignore_index=True);\n"
          ]
        },
        {
          "output_type": "stream",
          "name": "stdout",
          "text": [
            "Processing file   idle_29.csv\n",
            "Processing file   idle_26.csv\n"
          ]
        },
        {
          "output_type": "stream",
          "name": "stderr",
          "text": [
            "<ipython-input-4-3a7dd4a9c83c>:24: FutureWarning: The frame.append method is deprecated and will be removed from pandas in a future version. Use pandas.concat instead.\n",
            "  dataset = dataset.append(flow_features,ignore_index=True);\n",
            "<ipython-input-4-3a7dd4a9c83c>:24: FutureWarning: The frame.append method is deprecated and will be removed from pandas in a future version. Use pandas.concat instead.\n",
            "  dataset = dataset.append(flow_features,ignore_index=True);\n",
            "<ipython-input-4-3a7dd4a9c83c>:24: FutureWarning: The frame.append method is deprecated and will be removed from pandas in a future version. Use pandas.concat instead.\n",
            "  dataset = dataset.append(flow_features,ignore_index=True);\n"
          ]
        },
        {
          "output_type": "stream",
          "name": "stdout",
          "text": [
            "Processing file   idle_6.csv\n",
            "Processing file   youtube_2.csv\n"
          ]
        },
        {
          "output_type": "stream",
          "name": "stderr",
          "text": [
            "<ipython-input-4-3a7dd4a9c83c>:24: FutureWarning: The frame.append method is deprecated and will be removed from pandas in a future version. Use pandas.concat instead.\n",
            "  dataset = dataset.append(flow_features,ignore_index=True);\n",
            "<ipython-input-4-3a7dd4a9c83c>:24: FutureWarning: The frame.append method is deprecated and will be removed from pandas in a future version. Use pandas.concat instead.\n",
            "  dataset = dataset.append(flow_features,ignore_index=True);\n"
          ]
        },
        {
          "output_type": "stream",
          "name": "stdout",
          "text": [
            "Processing file   youtube_11.csv\n",
            "Processing file   youtube_8.csv\n"
          ]
        },
        {
          "output_type": "stream",
          "name": "stderr",
          "text": [
            "<ipython-input-4-3a7dd4a9c83c>:24: FutureWarning: The frame.append method is deprecated and will be removed from pandas in a future version. Use pandas.concat instead.\n",
            "  dataset = dataset.append(flow_features,ignore_index=True);\n",
            "<ipython-input-4-3a7dd4a9c83c>:24: FutureWarning: The frame.append method is deprecated and will be removed from pandas in a future version. Use pandas.concat instead.\n",
            "  dataset = dataset.append(flow_features,ignore_index=True);\n",
            "<ipython-input-4-3a7dd4a9c83c>:24: FutureWarning: The frame.append method is deprecated and will be removed from pandas in a future version. Use pandas.concat instead.\n",
            "  dataset = dataset.append(flow_features,ignore_index=True);\n"
          ]
        },
        {
          "output_type": "stream",
          "name": "stdout",
          "text": [
            "Processing file   idle_19.csv\n",
            "Processing file   idle_7.csv\n",
            "Processing file   youtube_30.csv\n"
          ]
        },
        {
          "output_type": "stream",
          "name": "stderr",
          "text": [
            "<ipython-input-4-3a7dd4a9c83c>:24: FutureWarning: The frame.append method is deprecated and will be removed from pandas in a future version. Use pandas.concat instead.\n",
            "  dataset = dataset.append(flow_features,ignore_index=True);\n",
            "<ipython-input-4-3a7dd4a9c83c>:24: FutureWarning: The frame.append method is deprecated and will be removed from pandas in a future version. Use pandas.concat instead.\n",
            "  dataset = dataset.append(flow_features,ignore_index=True);\n",
            "<ipython-input-4-3a7dd4a9c83c>:24: FutureWarning: The frame.append method is deprecated and will be removed from pandas in a future version. Use pandas.concat instead.\n",
            "  dataset = dataset.append(flow_features,ignore_index=True);\n"
          ]
        },
        {
          "output_type": "stream",
          "name": "stdout",
          "text": [
            "Processing file   idle_39.csv\n",
            "Processing file   whatsapp_16.csv\n",
            "Processing file   youtube_12.csv\n",
            "Processing file   youtube_33.csv\n",
            "Processing file   youtube_27.csv\n"
          ]
        },
        {
          "output_type": "stream",
          "name": "stderr",
          "text": [
            "<ipython-input-4-3a7dd4a9c83c>:24: FutureWarning: The frame.append method is deprecated and will be removed from pandas in a future version. Use pandas.concat instead.\n",
            "  dataset = dataset.append(flow_features,ignore_index=True);\n",
            "<ipython-input-4-3a7dd4a9c83c>:24: FutureWarning: The frame.append method is deprecated and will be removed from pandas in a future version. Use pandas.concat instead.\n",
            "  dataset = dataset.append(flow_features,ignore_index=True);\n",
            "<ipython-input-4-3a7dd4a9c83c>:24: FutureWarning: The frame.append method is deprecated and will be removed from pandas in a future version. Use pandas.concat instead.\n",
            "  dataset = dataset.append(flow_features,ignore_index=True);\n",
            "<ipython-input-4-3a7dd4a9c83c>:24: FutureWarning: The frame.append method is deprecated and will be removed from pandas in a future version. Use pandas.concat instead.\n",
            "  dataset = dataset.append(flow_features,ignore_index=True);\n"
          ]
        },
        {
          "output_type": "stream",
          "name": "stdout",
          "text": [
            "Processing file   whatsapp_2.csv\n",
            "Processing file   idle_10.csv\n",
            "Processing file   youtube_23.csv\n"
          ]
        },
        {
          "output_type": "stream",
          "name": "stderr",
          "text": [
            "<ipython-input-4-3a7dd4a9c83c>:24: FutureWarning: The frame.append method is deprecated and will be removed from pandas in a future version. Use pandas.concat instead.\n",
            "  dataset = dataset.append(flow_features,ignore_index=True);\n",
            "<ipython-input-4-3a7dd4a9c83c>:24: FutureWarning: The frame.append method is deprecated and will be removed from pandas in a future version. Use pandas.concat instead.\n",
            "  dataset = dataset.append(flow_features,ignore_index=True);\n",
            "<ipython-input-4-3a7dd4a9c83c>:24: FutureWarning: The frame.append method is deprecated and will be removed from pandas in a future version. Use pandas.concat instead.\n",
            "  dataset = dataset.append(flow_features,ignore_index=True);\n",
            "<ipython-input-4-3a7dd4a9c83c>:24: FutureWarning: The frame.append method is deprecated and will be removed from pandas in a future version. Use pandas.concat instead.\n",
            "  dataset = dataset.append(flow_features,ignore_index=True);\n"
          ]
        },
        {
          "output_type": "stream",
          "name": "stdout",
          "text": [
            "Processing file   browsing_5.csv\n",
            "Processing file   youtube_15.csv\n",
            "Processing file   whatsapp_5.csv\n"
          ]
        },
        {
          "output_type": "stream",
          "name": "stderr",
          "text": [
            "<ipython-input-4-3a7dd4a9c83c>:24: FutureWarning: The frame.append method is deprecated and will be removed from pandas in a future version. Use pandas.concat instead.\n",
            "  dataset = dataset.append(flow_features,ignore_index=True);\n",
            "<ipython-input-4-3a7dd4a9c83c>:24: FutureWarning: The frame.append method is deprecated and will be removed from pandas in a future version. Use pandas.concat instead.\n",
            "  dataset = dataset.append(flow_features,ignore_index=True);\n",
            "<ipython-input-4-3a7dd4a9c83c>:24: FutureWarning: The frame.append method is deprecated and will be removed from pandas in a future version. Use pandas.concat instead.\n",
            "  dataset = dataset.append(flow_features,ignore_index=True);\n"
          ]
        },
        {
          "output_type": "stream",
          "name": "stdout",
          "text": [
            "Processing file   idle_30.csv\n",
            "Processing file   whatsapp_3.csv\n",
            "Processing file   whatsapp_30.csv\n"
          ]
        },
        {
          "output_type": "stream",
          "name": "stderr",
          "text": [
            "<ipython-input-4-3a7dd4a9c83c>:24: FutureWarning: The frame.append method is deprecated and will be removed from pandas in a future version. Use pandas.concat instead.\n",
            "  dataset = dataset.append(flow_features,ignore_index=True);\n",
            "<ipython-input-4-3a7dd4a9c83c>:24: FutureWarning: The frame.append method is deprecated and will be removed from pandas in a future version. Use pandas.concat instead.\n",
            "  dataset = dataset.append(flow_features,ignore_index=True);\n",
            "<ipython-input-4-3a7dd4a9c83c>:24: FutureWarning: The frame.append method is deprecated and will be removed from pandas in a future version. Use pandas.concat instead.\n",
            "  dataset = dataset.append(flow_features,ignore_index=True);\n",
            "<ipython-input-4-3a7dd4a9c83c>:24: FutureWarning: The frame.append method is deprecated and will be removed from pandas in a future version. Use pandas.concat instead.\n",
            "  dataset = dataset.append(flow_features,ignore_index=True);\n"
          ]
        },
        {
          "output_type": "stream",
          "name": "stdout",
          "text": [
            "Processing file   idle_38.csv\n",
            "Processing file   whatsapp_20.csv\n",
            "Processing file   idle_1.csv\n",
            "Processing file   idle_21.csv\n"
          ]
        },
        {
          "output_type": "stream",
          "name": "stderr",
          "text": [
            "<ipython-input-4-3a7dd4a9c83c>:24: FutureWarning: The frame.append method is deprecated and will be removed from pandas in a future version. Use pandas.concat instead.\n",
            "  dataset = dataset.append(flow_features,ignore_index=True);\n",
            "<ipython-input-4-3a7dd4a9c83c>:24: FutureWarning: The frame.append method is deprecated and will be removed from pandas in a future version. Use pandas.concat instead.\n",
            "  dataset = dataset.append(flow_features,ignore_index=True);\n",
            "<ipython-input-4-3a7dd4a9c83c>:24: FutureWarning: The frame.append method is deprecated and will be removed from pandas in a future version. Use pandas.concat instead.\n",
            "  dataset = dataset.append(flow_features,ignore_index=True);\n"
          ]
        },
        {
          "output_type": "stream",
          "name": "stdout",
          "text": [
            "Processing file   whatsapp_9.csv\n",
            "Processing file   whatsapp_23.csv\n",
            "Processing file   youtube_31.csv\n"
          ]
        },
        {
          "output_type": "stream",
          "name": "stderr",
          "text": [
            "<ipython-input-4-3a7dd4a9c83c>:24: FutureWarning: The frame.append method is deprecated and will be removed from pandas in a future version. Use pandas.concat instead.\n",
            "  dataset = dataset.append(flow_features,ignore_index=True);\n",
            "<ipython-input-4-3a7dd4a9c83c>:24: FutureWarning: The frame.append method is deprecated and will be removed from pandas in a future version. Use pandas.concat instead.\n",
            "  dataset = dataset.append(flow_features,ignore_index=True);\n",
            "<ipython-input-4-3a7dd4a9c83c>:24: FutureWarning: The frame.append method is deprecated and will be removed from pandas in a future version. Use pandas.concat instead.\n",
            "  dataset = dataset.append(flow_features,ignore_index=True);\n",
            "<ipython-input-4-3a7dd4a9c83c>:24: FutureWarning: The frame.append method is deprecated and will be removed from pandas in a future version. Use pandas.concat instead.\n",
            "  dataset = dataset.append(flow_features,ignore_index=True);\n"
          ]
        },
        {
          "output_type": "stream",
          "name": "stdout",
          "text": [
            "Processing file   idle_20.csv\n",
            "Processing file   youtube_26.csv\n",
            "Processing file   idle_9.csv\n",
            "Processing file   idle_35.csv\n",
            "Processing file   idle_27.csv\n",
            "Processing file   youtube_19.csv\n"
          ]
        },
        {
          "output_type": "stream",
          "name": "stderr",
          "text": [
            "<ipython-input-4-3a7dd4a9c83c>:24: FutureWarning: The frame.append method is deprecated and will be removed from pandas in a future version. Use pandas.concat instead.\n",
            "  dataset = dataset.append(flow_features,ignore_index=True);\n",
            "<ipython-input-4-3a7dd4a9c83c>:24: FutureWarning: The frame.append method is deprecated and will be removed from pandas in a future version. Use pandas.concat instead.\n",
            "  dataset = dataset.append(flow_features,ignore_index=True);\n",
            "<ipython-input-4-3a7dd4a9c83c>:24: FutureWarning: The frame.append method is deprecated and will be removed from pandas in a future version. Use pandas.concat instead.\n",
            "  dataset = dataset.append(flow_features,ignore_index=True);\n",
            "<ipython-input-4-3a7dd4a9c83c>:24: FutureWarning: The frame.append method is deprecated and will be removed from pandas in a future version. Use pandas.concat instead.\n",
            "  dataset = dataset.append(flow_features,ignore_index=True);\n"
          ]
        },
        {
          "output_type": "stream",
          "name": "stdout",
          "text": [
            "Processing file   youtube_35.csv\n",
            "Processing file   whatsapp_29.csv\n",
            "Processing file   whatsapp_17.csv\n"
          ]
        },
        {
          "output_type": "stream",
          "name": "stderr",
          "text": [
            "<ipython-input-4-3a7dd4a9c83c>:24: FutureWarning: The frame.append method is deprecated and will be removed from pandas in a future version. Use pandas.concat instead.\n",
            "  dataset = dataset.append(flow_features,ignore_index=True);\n",
            "<ipython-input-4-3a7dd4a9c83c>:24: FutureWarning: The frame.append method is deprecated and will be removed from pandas in a future version. Use pandas.concat instead.\n",
            "  dataset = dataset.append(flow_features,ignore_index=True);\n",
            "<ipython-input-4-3a7dd4a9c83c>:24: FutureWarning: The frame.append method is deprecated and will be removed from pandas in a future version. Use pandas.concat instead.\n",
            "  dataset = dataset.append(flow_features,ignore_index=True);\n",
            "<ipython-input-4-3a7dd4a9c83c>:24: FutureWarning: The frame.append method is deprecated and will be removed from pandas in a future version. Use pandas.concat instead.\n",
            "  dataset = dataset.append(flow_features,ignore_index=True);\n"
          ]
        },
        {
          "output_type": "stream",
          "name": "stdout",
          "text": [
            "Processing file   idle_2.csv\n",
            "Processing file   whatsapp_13.csv\n",
            "Processing file   idle_12.csv\n",
            "Processing file   browsing_3.csv\n",
            "Processing file   browsing_4.csv\n",
            "Processing file   idle_4.csv\n",
            "Processing file   whatsapp_12.csv\n"
          ]
        },
        {
          "output_type": "stream",
          "name": "stderr",
          "text": [
            "<ipython-input-4-3a7dd4a9c83c>:24: FutureWarning: The frame.append method is deprecated and will be removed from pandas in a future version. Use pandas.concat instead.\n",
            "  dataset = dataset.append(flow_features,ignore_index=True);\n",
            "<ipython-input-4-3a7dd4a9c83c>:24: FutureWarning: The frame.append method is deprecated and will be removed from pandas in a future version. Use pandas.concat instead.\n",
            "  dataset = dataset.append(flow_features,ignore_index=True);\n",
            "<ipython-input-4-3a7dd4a9c83c>:24: FutureWarning: The frame.append method is deprecated and will be removed from pandas in a future version. Use pandas.concat instead.\n",
            "  dataset = dataset.append(flow_features,ignore_index=True);\n",
            "<ipython-input-4-3a7dd4a9c83c>:24: FutureWarning: The frame.append method is deprecated and will be removed from pandas in a future version. Use pandas.concat instead.\n",
            "  dataset = dataset.append(flow_features,ignore_index=True);\n",
            "<ipython-input-4-3a7dd4a9c83c>:24: FutureWarning: The frame.append method is deprecated and will be removed from pandas in a future version. Use pandas.concat instead.\n",
            "  dataset = dataset.append(flow_features,ignore_index=True);\n"
          ]
        },
        {
          "output_type": "stream",
          "name": "stdout",
          "text": [
            "Processing file   youtube_3.csv\n",
            "Processing file   browsing_19.csv\n"
          ]
        },
        {
          "output_type": "stream",
          "name": "stderr",
          "text": [
            "<ipython-input-4-3a7dd4a9c83c>:24: FutureWarning: The frame.append method is deprecated and will be removed from pandas in a future version. Use pandas.concat instead.\n",
            "  dataset = dataset.append(flow_features,ignore_index=True);\n",
            "<ipython-input-4-3a7dd4a9c83c>:24: FutureWarning: The frame.append method is deprecated and will be removed from pandas in a future version. Use pandas.concat instead.\n",
            "  dataset = dataset.append(flow_features,ignore_index=True);\n",
            "<ipython-input-4-3a7dd4a9c83c>:24: FutureWarning: The frame.append method is deprecated and will be removed from pandas in a future version. Use pandas.concat instead.\n",
            "  dataset = dataset.append(flow_features,ignore_index=True);\n"
          ]
        },
        {
          "output_type": "stream",
          "name": "stdout",
          "text": [
            "Processing file   idle_28.csv\n",
            "Processing file   youtube_7.csv\n",
            "Processing file   whatsapp_24.csv\n",
            "Processing file   whatsapp_15.csv\n"
          ]
        },
        {
          "output_type": "stream",
          "name": "stderr",
          "text": [
            "<ipython-input-4-3a7dd4a9c83c>:24: FutureWarning: The frame.append method is deprecated and will be removed from pandas in a future version. Use pandas.concat instead.\n",
            "  dataset = dataset.append(flow_features,ignore_index=True);\n",
            "<ipython-input-4-3a7dd4a9c83c>:24: FutureWarning: The frame.append method is deprecated and will be removed from pandas in a future version. Use pandas.concat instead.\n",
            "  dataset = dataset.append(flow_features,ignore_index=True);\n",
            "<ipython-input-4-3a7dd4a9c83c>:24: FutureWarning: The frame.append method is deprecated and will be removed from pandas in a future version. Use pandas.concat instead.\n",
            "  dataset = dataset.append(flow_features,ignore_index=True);\n"
          ]
        },
        {
          "output_type": "stream",
          "name": "stdout",
          "text": [
            "Processing file   whatsapp_4.csv\n",
            "Processing file   youtube_10.csv\n",
            "Processing file   whatsapp_19.csv\n"
          ]
        },
        {
          "output_type": "stream",
          "name": "stderr",
          "text": [
            "<ipython-input-4-3a7dd4a9c83c>:24: FutureWarning: The frame.append method is deprecated and will be removed from pandas in a future version. Use pandas.concat instead.\n",
            "  dataset = dataset.append(flow_features,ignore_index=True);\n",
            "<ipython-input-4-3a7dd4a9c83c>:24: FutureWarning: The frame.append method is deprecated and will be removed from pandas in a future version. Use pandas.concat instead.\n",
            "  dataset = dataset.append(flow_features,ignore_index=True);\n",
            "<ipython-input-4-3a7dd4a9c83c>:24: FutureWarning: The frame.append method is deprecated and will be removed from pandas in a future version. Use pandas.concat instead.\n",
            "  dataset = dataset.append(flow_features,ignore_index=True);\n",
            "<ipython-input-4-3a7dd4a9c83c>:24: FutureWarning: The frame.append method is deprecated and will be removed from pandas in a future version. Use pandas.concat instead.\n",
            "  dataset = dataset.append(flow_features,ignore_index=True);\n"
          ]
        },
        {
          "output_type": "stream",
          "name": "stdout",
          "text": [
            "Processing file   youtube_34.csv\n",
            "Processing file   browsing_1.csv\n",
            "Processing file   idle_24.csv\n",
            "Processing file   idle_14.csv\n"
          ]
        },
        {
          "output_type": "stream",
          "name": "stderr",
          "text": [
            "<ipython-input-4-3a7dd4a9c83c>:24: FutureWarning: The frame.append method is deprecated and will be removed from pandas in a future version. Use pandas.concat instead.\n",
            "  dataset = dataset.append(flow_features,ignore_index=True);\n",
            "<ipython-input-4-3a7dd4a9c83c>:24: FutureWarning: The frame.append method is deprecated and will be removed from pandas in a future version. Use pandas.concat instead.\n",
            "  dataset = dataset.append(flow_features,ignore_index=True);\n",
            "<ipython-input-4-3a7dd4a9c83c>:24: FutureWarning: The frame.append method is deprecated and will be removed from pandas in a future version. Use pandas.concat instead.\n",
            "  dataset = dataset.append(flow_features,ignore_index=True);\n"
          ]
        },
        {
          "output_type": "stream",
          "name": "stdout",
          "text": [
            "Processing file   browsing_9.csv\n",
            "Processing file   idle_34.csv\n",
            "Processing file   idle_23.csv\n",
            "Processing file  "
          ]
        },
        {
          "output_type": "stream",
          "name": "stderr",
          "text": [
            "<ipython-input-4-3a7dd4a9c83c>:24: FutureWarning: The frame.append method is deprecated and will be removed from pandas in a future version. Use pandas.concat instead.\n",
            "  dataset = dataset.append(flow_features,ignore_index=True);\n",
            "<ipython-input-4-3a7dd4a9c83c>:24: FutureWarning: The frame.append method is deprecated and will be removed from pandas in a future version. Use pandas.concat instead.\n",
            "  dataset = dataset.append(flow_features,ignore_index=True);\n",
            "<ipython-input-4-3a7dd4a9c83c>:24: FutureWarning: The frame.append method is deprecated and will be removed from pandas in a future version. Use pandas.concat instead.\n",
            "  dataset = dataset.append(flow_features,ignore_index=True);\n",
            "<ipython-input-4-3a7dd4a9c83c>:24: FutureWarning: The frame.append method is deprecated and will be removed from pandas in a future version. Use pandas.concat instead.\n",
            "  dataset = dataset.append(flow_features,ignore_index=True);\n"
          ]
        },
        {
          "output_type": "stream",
          "name": "stdout",
          "text": [
            " idle_40.csv\n",
            "Processing file   idle_32.csv\n",
            "Processing file   idle_8.csv\n",
            "Processing file   idle_3.csv\n"
          ]
        },
        {
          "output_type": "stream",
          "name": "stderr",
          "text": [
            "<ipython-input-4-3a7dd4a9c83c>:24: FutureWarning: The frame.append method is deprecated and will be removed from pandas in a future version. Use pandas.concat instead.\n",
            "  dataset = dataset.append(flow_features,ignore_index=True);\n",
            "<ipython-input-4-3a7dd4a9c83c>:24: FutureWarning: The frame.append method is deprecated and will be removed from pandas in a future version. Use pandas.concat instead.\n",
            "  dataset = dataset.append(flow_features,ignore_index=True);\n",
            "<ipython-input-4-3a7dd4a9c83c>:24: FutureWarning: The frame.append method is deprecated and will be removed from pandas in a future version. Use pandas.concat instead.\n",
            "  dataset = dataset.append(flow_features,ignore_index=True);\n"
          ]
        },
        {
          "output_type": "stream",
          "name": "stdout",
          "text": [
            "Processing file   whatsapp_25.csv\n",
            "Processing file   browsing_2.csv\n",
            "Processing file   idle_17.csv\n",
            "Processing file   whatsapp_18.csv\n",
            "Processing file   whatsapp_14.csv\n",
            "Processing file   whatsapp_10.csv\n"
          ]
        },
        {
          "output_type": "stream",
          "name": "stderr",
          "text": [
            "<ipython-input-4-3a7dd4a9c83c>:24: FutureWarning: The frame.append method is deprecated and will be removed from pandas in a future version. Use pandas.concat instead.\n",
            "  dataset = dataset.append(flow_features,ignore_index=True);\n",
            "<ipython-input-4-3a7dd4a9c83c>:24: FutureWarning: The frame.append method is deprecated and will be removed from pandas in a future version. Use pandas.concat instead.\n",
            "  dataset = dataset.append(flow_features,ignore_index=True);\n",
            "<ipython-input-4-3a7dd4a9c83c>:24: FutureWarning: The frame.append method is deprecated and will be removed from pandas in a future version. Use pandas.concat instead.\n",
            "  dataset = dataset.append(flow_features,ignore_index=True);\n"
          ]
        },
        {
          "output_type": "stream",
          "name": "stdout",
          "text": [
            "Processing file   whatsapp_11.csv\n",
            "Processing file   idle_11.csv\n",
            "Processing file   idle_15.csv\n"
          ]
        },
        {
          "output_type": "stream",
          "name": "stderr",
          "text": [
            "<ipython-input-4-3a7dd4a9c83c>:24: FutureWarning: The frame.append method is deprecated and will be removed from pandas in a future version. Use pandas.concat instead.\n",
            "  dataset = dataset.append(flow_features,ignore_index=True);\n",
            "<ipython-input-4-3a7dd4a9c83c>:24: FutureWarning: The frame.append method is deprecated and will be removed from pandas in a future version. Use pandas.concat instead.\n",
            "  dataset = dataset.append(flow_features,ignore_index=True);\n"
          ]
        },
        {
          "output_type": "stream",
          "name": "stdout",
          "text": [
            "Processing file   youtube_40.csv\n",
            "Processing file   whatsapp_8.csv\n",
            "Processing file   whatsapp_1.csv\n"
          ]
        },
        {
          "output_type": "stream",
          "name": "stderr",
          "text": [
            "<ipython-input-4-3a7dd4a9c83c>:24: FutureWarning: The frame.append method is deprecated and will be removed from pandas in a future version. Use pandas.concat instead.\n",
            "  dataset = dataset.append(flow_features,ignore_index=True);\n",
            "<ipython-input-4-3a7dd4a9c83c>:24: FutureWarning: The frame.append method is deprecated and will be removed from pandas in a future version. Use pandas.concat instead.\n",
            "  dataset = dataset.append(flow_features,ignore_index=True);\n",
            "<ipython-input-4-3a7dd4a9c83c>:24: FutureWarning: The frame.append method is deprecated and will be removed from pandas in a future version. Use pandas.concat instead.\n",
            "  dataset = dataset.append(flow_features,ignore_index=True);\n"
          ]
        },
        {
          "output_type": "stream",
          "name": "stdout",
          "text": [
            "Processing file   whatsapp_6.csv\n",
            "Processing file   youtube_32.csv\n",
            "Processing file   idle_37.csv\n"
          ]
        },
        {
          "output_type": "stream",
          "name": "stderr",
          "text": [
            "<ipython-input-4-3a7dd4a9c83c>:24: FutureWarning: The frame.append method is deprecated and will be removed from pandas in a future version. Use pandas.concat instead.\n",
            "  dataset = dataset.append(flow_features,ignore_index=True);\n",
            "<ipython-input-4-3a7dd4a9c83c>:24: FutureWarning: The frame.append method is deprecated and will be removed from pandas in a future version. Use pandas.concat instead.\n",
            "  dataset = dataset.append(flow_features,ignore_index=True);\n",
            "<ipython-input-4-3a7dd4a9c83c>:24: FutureWarning: The frame.append method is deprecated and will be removed from pandas in a future version. Use pandas.concat instead.\n",
            "  dataset = dataset.append(flow_features,ignore_index=True);\n",
            "<ipython-input-4-3a7dd4a9c83c>:24: FutureWarning: The frame.append method is deprecated and will be removed from pandas in a future version. Use pandas.concat instead.\n",
            "  dataset = dataset.append(flow_features,ignore_index=True);\n"
          ]
        },
        {
          "output_type": "stream",
          "name": "stdout",
          "text": [
            "Processing file   youtube_5.csv\n",
            "Processing file   whatsapp_21.csv\n",
            "Processing file   idle_22.csv\n"
          ]
        },
        {
          "output_type": "stream",
          "name": "stderr",
          "text": [
            "<ipython-input-4-3a7dd4a9c83c>:24: FutureWarning: The frame.append method is deprecated and will be removed from pandas in a future version. Use pandas.concat instead.\n",
            "  dataset = dataset.append(flow_features,ignore_index=True);\n",
            "<ipython-input-4-3a7dd4a9c83c>:24: FutureWarning: The frame.append method is deprecated and will be removed from pandas in a future version. Use pandas.concat instead.\n",
            "  dataset = dataset.append(flow_features,ignore_index=True);\n"
          ]
        },
        {
          "output_type": "stream",
          "name": "stdout",
          "text": [
            "Processing file   youtube_36.csv\n",
            "Processing file   browsing_28.csv\n"
          ]
        },
        {
          "output_type": "stream",
          "name": "stderr",
          "text": [
            "<ipython-input-4-3a7dd4a9c83c>:24: FutureWarning: The frame.append method is deprecated and will be removed from pandas in a future version. Use pandas.concat instead.\n",
            "  dataset = dataset.append(flow_features,ignore_index=True);\n",
            "<ipython-input-4-3a7dd4a9c83c>:24: FutureWarning: The frame.append method is deprecated and will be removed from pandas in a future version. Use pandas.concat instead.\n",
            "  dataset = dataset.append(flow_features,ignore_index=True);\n"
          ]
        },
        {
          "output_type": "stream",
          "name": "stdout",
          "text": [
            "Processing file   browsing_26.csv\n",
            "Processing file   youtube_17.csv\n",
            "Processing file   youtube_25.csv\n"
          ]
        },
        {
          "output_type": "stream",
          "name": "stderr",
          "text": [
            "<ipython-input-4-3a7dd4a9c83c>:24: FutureWarning: The frame.append method is deprecated and will be removed from pandas in a future version. Use pandas.concat instead.\n",
            "  dataset = dataset.append(flow_features,ignore_index=True);\n",
            "<ipython-input-4-3a7dd4a9c83c>:24: FutureWarning: The frame.append method is deprecated and will be removed from pandas in a future version. Use pandas.concat instead.\n",
            "  dataset = dataset.append(flow_features,ignore_index=True);\n",
            "<ipython-input-4-3a7dd4a9c83c>:24: FutureWarning: The frame.append method is deprecated and will be removed from pandas in a future version. Use pandas.concat instead.\n",
            "  dataset = dataset.append(flow_features,ignore_index=True);\n"
          ]
        },
        {
          "output_type": "stream",
          "name": "stdout",
          "text": [
            "Processing file   browsing_8.csv\n",
            "Processing file   youtube_16.csv\n",
            "Processing file   browsing_15.csv\n"
          ]
        },
        {
          "output_type": "stream",
          "name": "stderr",
          "text": [
            "<ipython-input-4-3a7dd4a9c83c>:24: FutureWarning: The frame.append method is deprecated and will be removed from pandas in a future version. Use pandas.concat instead.\n",
            "  dataset = dataset.append(flow_features,ignore_index=True);\n",
            "<ipython-input-4-3a7dd4a9c83c>:24: FutureWarning: The frame.append method is deprecated and will be removed from pandas in a future version. Use pandas.concat instead.\n",
            "  dataset = dataset.append(flow_features,ignore_index=True);\n",
            "<ipython-input-4-3a7dd4a9c83c>:24: FutureWarning: The frame.append method is deprecated and will be removed from pandas in a future version. Use pandas.concat instead.\n",
            "  dataset = dataset.append(flow_features,ignore_index=True);\n",
            "<ipython-input-4-3a7dd4a9c83c>:24: FutureWarning: The frame.append method is deprecated and will be removed from pandas in a future version. Use pandas.concat instead.\n",
            "  dataset = dataset.append(flow_features,ignore_index=True);\n"
          ]
        },
        {
          "output_type": "stream",
          "name": "stdout",
          "text": [
            "Processing file   browsing_17.csv\n",
            "Processing file   browsing_25.csv\n",
            "Processing file   idle_36.csv\n"
          ]
        },
        {
          "output_type": "stream",
          "name": "stderr",
          "text": [
            "<ipython-input-4-3a7dd4a9c83c>:24: FutureWarning: The frame.append method is deprecated and will be removed from pandas in a future version. Use pandas.concat instead.\n",
            "  dataset = dataset.append(flow_features,ignore_index=True);\n",
            "<ipython-input-4-3a7dd4a9c83c>:24: FutureWarning: The frame.append method is deprecated and will be removed from pandas in a future version. Use pandas.concat instead.\n",
            "  dataset = dataset.append(flow_features,ignore_index=True);\n",
            "<ipython-input-4-3a7dd4a9c83c>:24: FutureWarning: The frame.append method is deprecated and will be removed from pandas in a future version. Use pandas.concat instead.\n",
            "  dataset = dataset.append(flow_features,ignore_index=True);\n"
          ]
        },
        {
          "output_type": "stream",
          "name": "stdout",
          "text": [
            "Processing file   browsing_20.csv\n",
            "Processing file   youtube_20.csv\n",
            "Processing file   youtube_39.csv\n"
          ]
        },
        {
          "output_type": "stream",
          "name": "stderr",
          "text": [
            "<ipython-input-4-3a7dd4a9c83c>:24: FutureWarning: The frame.append method is deprecated and will be removed from pandas in a future version. Use pandas.concat instead.\n",
            "  dataset = dataset.append(flow_features,ignore_index=True);\n",
            "<ipython-input-4-3a7dd4a9c83c>:24: FutureWarning: The frame.append method is deprecated and will be removed from pandas in a future version. Use pandas.concat instead.\n",
            "  dataset = dataset.append(flow_features,ignore_index=True);\n",
            "<ipython-input-4-3a7dd4a9c83c>:24: FutureWarning: The frame.append method is deprecated and will be removed from pandas in a future version. Use pandas.concat instead.\n",
            "  dataset = dataset.append(flow_features,ignore_index=True);\n",
            "<ipython-input-4-3a7dd4a9c83c>:24: FutureWarning: The frame.append method is deprecated and will be removed from pandas in a future version. Use pandas.concat instead.\n",
            "  dataset = dataset.append(flow_features,ignore_index=True);\n"
          ]
        },
        {
          "output_type": "stream",
          "name": "stdout",
          "text": [
            "Processing file   youtube_37.csv\n",
            "Processing file   browsing_22.csv\n"
          ]
        },
        {
          "output_type": "stream",
          "name": "stderr",
          "text": [
            "<ipython-input-4-3a7dd4a9c83c>:24: FutureWarning: The frame.append method is deprecated and will be removed from pandas in a future version. Use pandas.concat instead.\n",
            "  dataset = dataset.append(flow_features,ignore_index=True);\n",
            "<ipython-input-4-3a7dd4a9c83c>:24: FutureWarning: The frame.append method is deprecated and will be removed from pandas in a future version. Use pandas.concat instead.\n",
            "  dataset = dataset.append(flow_features,ignore_index=True);\n"
          ]
        },
        {
          "output_type": "stream",
          "name": "stdout",
          "text": [
            "Processing file   youtube_1.csv\n",
            "Processing file   browsing_13.csv\n"
          ]
        },
        {
          "output_type": "stream",
          "name": "stderr",
          "text": [
            "<ipython-input-4-3a7dd4a9c83c>:24: FutureWarning: The frame.append method is deprecated and will be removed from pandas in a future version. Use pandas.concat instead.\n",
            "  dataset = dataset.append(flow_features,ignore_index=True);\n",
            "<ipython-input-4-3a7dd4a9c83c>:24: FutureWarning: The frame.append method is deprecated and will be removed from pandas in a future version. Use pandas.concat instead.\n",
            "  dataset = dataset.append(flow_features,ignore_index=True);\n",
            "<ipython-input-4-3a7dd4a9c83c>:24: FutureWarning: The frame.append method is deprecated and will be removed from pandas in a future version. Use pandas.concat instead.\n",
            "  dataset = dataset.append(flow_features,ignore_index=True);\n"
          ]
        },
        {
          "output_type": "stream",
          "name": "stdout",
          "text": [
            "Processing file   browsing_11.csv\n",
            "Processing file   browsing_27.csv\n"
          ]
        },
        {
          "output_type": "stream",
          "name": "stderr",
          "text": [
            "<ipython-input-4-3a7dd4a9c83c>:24: FutureWarning: The frame.append method is deprecated and will be removed from pandas in a future version. Use pandas.concat instead.\n",
            "  dataset = dataset.append(flow_features,ignore_index=True);\n",
            "<ipython-input-4-3a7dd4a9c83c>:24: FutureWarning: The frame.append method is deprecated and will be removed from pandas in a future version. Use pandas.concat instead.\n",
            "  dataset = dataset.append(flow_features,ignore_index=True);\n",
            "<ipython-input-4-3a7dd4a9c83c>:24: FutureWarning: The frame.append method is deprecated and will be removed from pandas in a future version. Use pandas.concat instead.\n",
            "  dataset = dataset.append(flow_features,ignore_index=True);\n"
          ]
        },
        {
          "output_type": "stream",
          "name": "stdout",
          "text": [
            "Processing file   browsing_29.csv\n",
            "Processing file   browsing_16.csv\n",
            "Processing file   browsing_21.csv\n"
          ]
        },
        {
          "output_type": "stream",
          "name": "stderr",
          "text": [
            "<ipython-input-4-3a7dd4a9c83c>:24: FutureWarning: The frame.append method is deprecated and will be removed from pandas in a future version. Use pandas.concat instead.\n",
            "  dataset = dataset.append(flow_features,ignore_index=True);\n",
            "<ipython-input-4-3a7dd4a9c83c>:24: FutureWarning: The frame.append method is deprecated and will be removed from pandas in a future version. Use pandas.concat instead.\n",
            "  dataset = dataset.append(flow_features,ignore_index=True);\n",
            "<ipython-input-4-3a7dd4a9c83c>:24: FutureWarning: The frame.append method is deprecated and will be removed from pandas in a future version. Use pandas.concat instead.\n",
            "  dataset = dataset.append(flow_features,ignore_index=True);\n"
          ]
        },
        {
          "output_type": "stream",
          "name": "stdout",
          "text": [
            "Processing file   youtube_29.csv\n",
            "Processing file   youtube_38.csv\n",
            "Processing file   browsing_30.csv\n"
          ]
        },
        {
          "output_type": "stream",
          "name": "stderr",
          "text": [
            "<ipython-input-4-3a7dd4a9c83c>:24: FutureWarning: The frame.append method is deprecated and will be removed from pandas in a future version. Use pandas.concat instead.\n",
            "  dataset = dataset.append(flow_features,ignore_index=True);\n",
            "<ipython-input-4-3a7dd4a9c83c>:24: FutureWarning: The frame.append method is deprecated and will be removed from pandas in a future version. Use pandas.concat instead.\n",
            "  dataset = dataset.append(flow_features,ignore_index=True);\n",
            "<ipython-input-4-3a7dd4a9c83c>:24: FutureWarning: The frame.append method is deprecated and will be removed from pandas in a future version. Use pandas.concat instead.\n",
            "  dataset = dataset.append(flow_features,ignore_index=True);\n"
          ]
        },
        {
          "output_type": "stream",
          "name": "stdout",
          "text": [
            "Processing file   browsing_12.csv\n",
            "Processing file   youtube_28.csv\n"
          ]
        },
        {
          "output_type": "stream",
          "name": "stderr",
          "text": [
            "<ipython-input-4-3a7dd4a9c83c>:24: FutureWarning: The frame.append method is deprecated and will be removed from pandas in a future version. Use pandas.concat instead.\n",
            "  dataset = dataset.append(flow_features,ignore_index=True);\n",
            "<ipython-input-4-3a7dd4a9c83c>:24: FutureWarning: The frame.append method is deprecated and will be removed from pandas in a future version. Use pandas.concat instead.\n",
            "  dataset = dataset.append(flow_features,ignore_index=True);\n",
            "<ipython-input-4-3a7dd4a9c83c>:24: FutureWarning: The frame.append method is deprecated and will be removed from pandas in a future version. Use pandas.concat instead.\n",
            "  dataset = dataset.append(flow_features,ignore_index=True);\n"
          ]
        },
        {
          "output_type": "stream",
          "name": "stdout",
          "text": [
            "Processing file   browsing_10.csv\n",
            "Processing file   youtube_13.csv\n",
            "Processing file   browsing_7.csv\n"
          ]
        },
        {
          "output_type": "stream",
          "name": "stderr",
          "text": [
            "<ipython-input-4-3a7dd4a9c83c>:24: FutureWarning: The frame.append method is deprecated and will be removed from pandas in a future version. Use pandas.concat instead.\n",
            "  dataset = dataset.append(flow_features,ignore_index=True);\n",
            "<ipython-input-4-3a7dd4a9c83c>:24: FutureWarning: The frame.append method is deprecated and will be removed from pandas in a future version. Use pandas.concat instead.\n",
            "  dataset = dataset.append(flow_features,ignore_index=True);\n"
          ]
        },
        {
          "output_type": "stream",
          "name": "stdout",
          "text": [
            "Processing file   browsing_18.csv\n",
            "Processing file   browsing_23.csv\n"
          ]
        },
        {
          "output_type": "stream",
          "name": "stderr",
          "text": [
            "<ipython-input-4-3a7dd4a9c83c>:24: FutureWarning: The frame.append method is deprecated and will be removed from pandas in a future version. Use pandas.concat instead.\n",
            "  dataset = dataset.append(flow_features,ignore_index=True);\n",
            "<ipython-input-4-3a7dd4a9c83c>:24: FutureWarning: The frame.append method is deprecated and will be removed from pandas in a future version. Use pandas.concat instead.\n",
            "  dataset = dataset.append(flow_features,ignore_index=True);\n",
            "<ipython-input-4-3a7dd4a9c83c>:24: FutureWarning: The frame.append method is deprecated and will be removed from pandas in a future version. Use pandas.concat instead.\n",
            "  dataset = dataset.append(flow_features,ignore_index=True);\n"
          ]
        },
        {
          "output_type": "stream",
          "name": "stdout",
          "text": [
            "Processing file   youtube_21.csv\n",
            "Processing file   youtube_24.csv\n",
            "Processing file   browsing_14.csv\n",
            "Processing file   browsing_24.csv\n",
            "Processing file   browsing_6.csv\n"
          ]
        },
        {
          "output_type": "stream",
          "name": "stderr",
          "text": [
            "<ipython-input-4-3a7dd4a9c83c>:24: FutureWarning: The frame.append method is deprecated and will be removed from pandas in a future version. Use pandas.concat instead.\n",
            "  dataset = dataset.append(flow_features,ignore_index=True);\n",
            "<ipython-input-4-3a7dd4a9c83c>:24: FutureWarning: The frame.append method is deprecated and will be removed from pandas in a future version. Use pandas.concat instead.\n",
            "  dataset = dataset.append(flow_features,ignore_index=True);\n",
            "<ipython-input-4-3a7dd4a9c83c>:24: FutureWarning: The frame.append method is deprecated and will be removed from pandas in a future version. Use pandas.concat instead.\n",
            "  dataset = dataset.append(flow_features,ignore_index=True);\n"
          ]
        },
        {
          "output_type": "display_data",
          "data": {
            "text/plain": [
              "          min_iat       max_iat      mean_iat       std_iat       app\n",
              "0    1.000000e-09  4.000000e-09  2.500000e-09  2.121320e-09      idle\n",
              "1    0.000000e+00  5.000000e-09  1.666667e-09  2.886751e-09      idle\n",
              "2    0.000000e+00  5.000000e-09  2.958580e-11  3.459426e-10   youtube\n",
              "3    0.000000e+00  3.000000e-09  2.380952e-11  2.138121e-10   youtube\n",
              "4    0.000000e+00  5.000000e-09  1.363636e-10  7.652605e-10      idle\n",
              "..            ...           ...           ...           ...       ...\n",
              "135  0.000000e+00  5.000000e-09  1.763485e-11  2.383314e-10   youtube\n",
              "136  0.000000e+00  4.000000e-09  1.002950e-11  1.590065e-10   youtube\n",
              "137  0.000000e+00  1.000000e-09  2.885345e-12  5.364194e-11  browsing\n",
              "138  0.000000e+00  2.000000e-09  5.884084e-12  8.024814e-11  browsing\n",
              "139  0.000000e+00  2.000000e-09  7.772021e-12  9.262224e-11  browsing\n",
              "\n",
              "[140 rows x 5 columns]"
            ],
            "text/html": [
              "\n",
              "  <div id=\"df-e657e84f-37f7-428b-8bf0-473f3786d34d\" class=\"colab-df-container\">\n",
              "    <div>\n",
              "<style scoped>\n",
              "    .dataframe tbody tr th:only-of-type {\n",
              "        vertical-align: middle;\n",
              "    }\n",
              "\n",
              "    .dataframe tbody tr th {\n",
              "        vertical-align: top;\n",
              "    }\n",
              "\n",
              "    .dataframe thead th {\n",
              "        text-align: right;\n",
              "    }\n",
              "</style>\n",
              "<table border=\"1\" class=\"dataframe\">\n",
              "  <thead>\n",
              "    <tr style=\"text-align: right;\">\n",
              "      <th></th>\n",
              "      <th>min_iat</th>\n",
              "      <th>max_iat</th>\n",
              "      <th>mean_iat</th>\n",
              "      <th>std_iat</th>\n",
              "      <th>app</th>\n",
              "    </tr>\n",
              "  </thead>\n",
              "  <tbody>\n",
              "    <tr>\n",
              "      <th>0</th>\n",
              "      <td>1.000000e-09</td>\n",
              "      <td>4.000000e-09</td>\n",
              "      <td>2.500000e-09</td>\n",
              "      <td>2.121320e-09</td>\n",
              "      <td>idle</td>\n",
              "    </tr>\n",
              "    <tr>\n",
              "      <th>1</th>\n",
              "      <td>0.000000e+00</td>\n",
              "      <td>5.000000e-09</td>\n",
              "      <td>1.666667e-09</td>\n",
              "      <td>2.886751e-09</td>\n",
              "      <td>idle</td>\n",
              "    </tr>\n",
              "    <tr>\n",
              "      <th>2</th>\n",
              "      <td>0.000000e+00</td>\n",
              "      <td>5.000000e-09</td>\n",
              "      <td>2.958580e-11</td>\n",
              "      <td>3.459426e-10</td>\n",
              "      <td>youtube</td>\n",
              "    </tr>\n",
              "    <tr>\n",
              "      <th>3</th>\n",
              "      <td>0.000000e+00</td>\n",
              "      <td>3.000000e-09</td>\n",
              "      <td>2.380952e-11</td>\n",
              "      <td>2.138121e-10</td>\n",
              "      <td>youtube</td>\n",
              "    </tr>\n",
              "    <tr>\n",
              "      <th>4</th>\n",
              "      <td>0.000000e+00</td>\n",
              "      <td>5.000000e-09</td>\n",
              "      <td>1.363636e-10</td>\n",
              "      <td>7.652605e-10</td>\n",
              "      <td>idle</td>\n",
              "    </tr>\n",
              "    <tr>\n",
              "      <th>...</th>\n",
              "      <td>...</td>\n",
              "      <td>...</td>\n",
              "      <td>...</td>\n",
              "      <td>...</td>\n",
              "      <td>...</td>\n",
              "    </tr>\n",
              "    <tr>\n",
              "      <th>135</th>\n",
              "      <td>0.000000e+00</td>\n",
              "      <td>5.000000e-09</td>\n",
              "      <td>1.763485e-11</td>\n",
              "      <td>2.383314e-10</td>\n",
              "      <td>youtube</td>\n",
              "    </tr>\n",
              "    <tr>\n",
              "      <th>136</th>\n",
              "      <td>0.000000e+00</td>\n",
              "      <td>4.000000e-09</td>\n",
              "      <td>1.002950e-11</td>\n",
              "      <td>1.590065e-10</td>\n",
              "      <td>youtube</td>\n",
              "    </tr>\n",
              "    <tr>\n",
              "      <th>137</th>\n",
              "      <td>0.000000e+00</td>\n",
              "      <td>1.000000e-09</td>\n",
              "      <td>2.885345e-12</td>\n",
              "      <td>5.364194e-11</td>\n",
              "      <td>browsing</td>\n",
              "    </tr>\n",
              "    <tr>\n",
              "      <th>138</th>\n",
              "      <td>0.000000e+00</td>\n",
              "      <td>2.000000e-09</td>\n",
              "      <td>5.884084e-12</td>\n",
              "      <td>8.024814e-11</td>\n",
              "      <td>browsing</td>\n",
              "    </tr>\n",
              "    <tr>\n",
              "      <th>139</th>\n",
              "      <td>0.000000e+00</td>\n",
              "      <td>2.000000e-09</td>\n",
              "      <td>7.772021e-12</td>\n",
              "      <td>9.262224e-11</td>\n",
              "      <td>browsing</td>\n",
              "    </tr>\n",
              "  </tbody>\n",
              "</table>\n",
              "<p>140 rows × 5 columns</p>\n",
              "</div>\n",
              "    <div class=\"colab-df-buttons\">\n",
              "\n",
              "  <div class=\"colab-df-container\">\n",
              "    <button class=\"colab-df-convert\" onclick=\"convertToInteractive('df-e657e84f-37f7-428b-8bf0-473f3786d34d')\"\n",
              "            title=\"Convert this dataframe to an interactive table.\"\n",
              "            style=\"display:none;\">\n",
              "\n",
              "  <svg xmlns=\"http://www.w3.org/2000/svg\" height=\"24px\" viewBox=\"0 -960 960 960\">\n",
              "    <path d=\"M120-120v-720h720v720H120Zm60-500h600v-160H180v160Zm220 220h160v-160H400v160Zm0 220h160v-160H400v160ZM180-400h160v-160H180v160Zm440 0h160v-160H620v160ZM180-180h160v-160H180v160Zm440 0h160v-160H620v160Z\"/>\n",
              "  </svg>\n",
              "    </button>\n",
              "\n",
              "  <style>\n",
              "    .colab-df-container {\n",
              "      display:flex;\n",
              "      gap: 12px;\n",
              "    }\n",
              "\n",
              "    .colab-df-convert {\n",
              "      background-color: #E8F0FE;\n",
              "      border: none;\n",
              "      border-radius: 50%;\n",
              "      cursor: pointer;\n",
              "      display: none;\n",
              "      fill: #1967D2;\n",
              "      height: 32px;\n",
              "      padding: 0 0 0 0;\n",
              "      width: 32px;\n",
              "    }\n",
              "\n",
              "    .colab-df-convert:hover {\n",
              "      background-color: #E2EBFA;\n",
              "      box-shadow: 0px 1px 2px rgba(60, 64, 67, 0.3), 0px 1px 3px 1px rgba(60, 64, 67, 0.15);\n",
              "      fill: #174EA6;\n",
              "    }\n",
              "\n",
              "    .colab-df-buttons div {\n",
              "      margin-bottom: 4px;\n",
              "    }\n",
              "\n",
              "    [theme=dark] .colab-df-convert {\n",
              "      background-color: #3B4455;\n",
              "      fill: #D2E3FC;\n",
              "    }\n",
              "\n",
              "    [theme=dark] .colab-df-convert:hover {\n",
              "      background-color: #434B5C;\n",
              "      box-shadow: 0px 1px 3px 1px rgba(0, 0, 0, 0.15);\n",
              "      filter: drop-shadow(0px 1px 2px rgba(0, 0, 0, 0.3));\n",
              "      fill: #FFFFFF;\n",
              "    }\n",
              "  </style>\n",
              "\n",
              "    <script>\n",
              "      const buttonEl =\n",
              "        document.querySelector('#df-e657e84f-37f7-428b-8bf0-473f3786d34d button.colab-df-convert');\n",
              "      buttonEl.style.display =\n",
              "        google.colab.kernel.accessAllowed ? 'block' : 'none';\n",
              "\n",
              "      async function convertToInteractive(key) {\n",
              "        const element = document.querySelector('#df-e657e84f-37f7-428b-8bf0-473f3786d34d');\n",
              "        const dataTable =\n",
              "          await google.colab.kernel.invokeFunction('convertToInteractive',\n",
              "                                                    [key], {});\n",
              "        if (!dataTable) return;\n",
              "\n",
              "        const docLinkHtml = 'Like what you see? Visit the ' +\n",
              "          '<a target=\"_blank\" href=https://colab.research.google.com/notebooks/data_table.ipynb>data table notebook</a>'\n",
              "          + ' to learn more about interactive tables.';\n",
              "        element.innerHTML = '';\n",
              "        dataTable['output_type'] = 'display_data';\n",
              "        await google.colab.output.renderOutput(dataTable, element);\n",
              "        const docLink = document.createElement('div');\n",
              "        docLink.innerHTML = docLinkHtml;\n",
              "        element.appendChild(docLink);\n",
              "      }\n",
              "    </script>\n",
              "  </div>\n",
              "\n",
              "\n",
              "<div id=\"df-3de10656-1b67-4aa0-a654-d8c9dd3d4271\">\n",
              "  <button class=\"colab-df-quickchart\" onclick=\"quickchart('df-3de10656-1b67-4aa0-a654-d8c9dd3d4271')\"\n",
              "            title=\"Suggest charts.\"\n",
              "            style=\"display:none;\">\n",
              "\n",
              "<svg xmlns=\"http://www.w3.org/2000/svg\" height=\"24px\"viewBox=\"0 0 24 24\"\n",
              "     width=\"24px\">\n",
              "    <g>\n",
              "        <path d=\"M19 3H5c-1.1 0-2 .9-2 2v14c0 1.1.9 2 2 2h14c1.1 0 2-.9 2-2V5c0-1.1-.9-2-2-2zM9 17H7v-7h2v7zm4 0h-2V7h2v10zm4 0h-2v-4h2v4z\"/>\n",
              "    </g>\n",
              "</svg>\n",
              "  </button>\n",
              "\n",
              "<style>\n",
              "  .colab-df-quickchart {\n",
              "      --bg-color: #E8F0FE;\n",
              "      --fill-color: #1967D2;\n",
              "      --hover-bg-color: #E2EBFA;\n",
              "      --hover-fill-color: #174EA6;\n",
              "      --disabled-fill-color: #AAA;\n",
              "      --disabled-bg-color: #DDD;\n",
              "  }\n",
              "\n",
              "  [theme=dark] .colab-df-quickchart {\n",
              "      --bg-color: #3B4455;\n",
              "      --fill-color: #D2E3FC;\n",
              "      --hover-bg-color: #434B5C;\n",
              "      --hover-fill-color: #FFFFFF;\n",
              "      --disabled-bg-color: #3B4455;\n",
              "      --disabled-fill-color: #666;\n",
              "  }\n",
              "\n",
              "  .colab-df-quickchart {\n",
              "    background-color: var(--bg-color);\n",
              "    border: none;\n",
              "    border-radius: 50%;\n",
              "    cursor: pointer;\n",
              "    display: none;\n",
              "    fill: var(--fill-color);\n",
              "    height: 32px;\n",
              "    padding: 0;\n",
              "    width: 32px;\n",
              "  }\n",
              "\n",
              "  .colab-df-quickchart:hover {\n",
              "    background-color: var(--hover-bg-color);\n",
              "    box-shadow: 0 1px 2px rgba(60, 64, 67, 0.3), 0 1px 3px 1px rgba(60, 64, 67, 0.15);\n",
              "    fill: var(--button-hover-fill-color);\n",
              "  }\n",
              "\n",
              "  .colab-df-quickchart-complete:disabled,\n",
              "  .colab-df-quickchart-complete:disabled:hover {\n",
              "    background-color: var(--disabled-bg-color);\n",
              "    fill: var(--disabled-fill-color);\n",
              "    box-shadow: none;\n",
              "  }\n",
              "\n",
              "  .colab-df-spinner {\n",
              "    border: 2px solid var(--fill-color);\n",
              "    border-color: transparent;\n",
              "    border-bottom-color: var(--fill-color);\n",
              "    animation:\n",
              "      spin 1s steps(1) infinite;\n",
              "  }\n",
              "\n",
              "  @keyframes spin {\n",
              "    0% {\n",
              "      border-color: transparent;\n",
              "      border-bottom-color: var(--fill-color);\n",
              "      border-left-color: var(--fill-color);\n",
              "    }\n",
              "    20% {\n",
              "      border-color: transparent;\n",
              "      border-left-color: var(--fill-color);\n",
              "      border-top-color: var(--fill-color);\n",
              "    }\n",
              "    30% {\n",
              "      border-color: transparent;\n",
              "      border-left-color: var(--fill-color);\n",
              "      border-top-color: var(--fill-color);\n",
              "      border-right-color: var(--fill-color);\n",
              "    }\n",
              "    40% {\n",
              "      border-color: transparent;\n",
              "      border-right-color: var(--fill-color);\n",
              "      border-top-color: var(--fill-color);\n",
              "    }\n",
              "    60% {\n",
              "      border-color: transparent;\n",
              "      border-right-color: var(--fill-color);\n",
              "    }\n",
              "    80% {\n",
              "      border-color: transparent;\n",
              "      border-right-color: var(--fill-color);\n",
              "      border-bottom-color: var(--fill-color);\n",
              "    }\n",
              "    90% {\n",
              "      border-color: transparent;\n",
              "      border-bottom-color: var(--fill-color);\n",
              "    }\n",
              "  }\n",
              "</style>\n",
              "\n",
              "  <script>\n",
              "    async function quickchart(key) {\n",
              "      const quickchartButtonEl =\n",
              "        document.querySelector('#' + key + ' button');\n",
              "      quickchartButtonEl.disabled = true;  // To prevent multiple clicks.\n",
              "      quickchartButtonEl.classList.add('colab-df-spinner');\n",
              "      try {\n",
              "        const charts = await google.colab.kernel.invokeFunction(\n",
              "            'suggestCharts', [key], {});\n",
              "      } catch (error) {\n",
              "        console.error('Error during call to suggestCharts:', error);\n",
              "      }\n",
              "      quickchartButtonEl.classList.remove('colab-df-spinner');\n",
              "      quickchartButtonEl.classList.add('colab-df-quickchart-complete');\n",
              "    }\n",
              "    (() => {\n",
              "      let quickchartButtonEl =\n",
              "        document.querySelector('#df-3de10656-1b67-4aa0-a654-d8c9dd3d4271 button');\n",
              "      quickchartButtonEl.style.display =\n",
              "        google.colab.kernel.accessAllowed ? 'block' : 'none';\n",
              "    })();\n",
              "  </script>\n",
              "</div>\n",
              "    </div>\n",
              "  </div>\n"
            ]
          },
          "metadata": {}
        }
      ]
    },
    {
      "cell_type": "markdown",
      "source": [
        "#### Training and evaluation\n",
        "The dataset is divided in a training set which takes 80% of data and an evaluation set which takes 20% of data. The evaluation set is then used to create a confusion matrix."
      ],
      "metadata": {
        "id": "7-CWCw7V0JwN"
      }
    },
    {
      "cell_type": "code",
      "source": [
        "import pandas as pd\n",
        "import matplotlib.pyplot as plt\n",
        "from sklearn.utils import resample\n",
        "\n",
        "\n",
        "from sklearn.model_selection import KFold, train_test_split, StratifiedKFold\n",
        "from sklearn.preprocessing import LabelEncoder, StandardScaler\n",
        "from sklearn.metrics import  classification_report\n",
        "from sklearn.metrics import confusion_matrix, ConfusionMatrixDisplay\n",
        "from sklearn.neighbors import KNeighborsClassifier\n",
        "from sklearn.ensemble import RandomForestClassifier\n",
        "from sklearn.naive_bayes import GaussianNB\n",
        "\n",
        "\n",
        "#constructing features\n",
        "le = LabelEncoder();\n",
        "scaler = StandardScaler();\n",
        "\n",
        "\n",
        "#using only traffic features\n",
        "X = dataset.dropna();\n",
        "\n",
        "\n",
        "\n",
        "Y = le.fit_transform(X['app']);\n",
        "X = X.drop('app',axis=1);\n",
        "\n",
        "X_norm = scaler.fit_transform(X);\n",
        "\n",
        "\n",
        "#now let's use a stratified k-fold cross validation approach with 5 splits\n",
        "tot_cm = np.zeros([len(apps),len(apps)])\n",
        "skf = StratifiedKFold(n_splits=5,shuffle=True)\n",
        "print('KNN')\n",
        "for train, test in skf.split(X_norm, Y):\n",
        "    knn = KNeighborsClassifier(n_neighbors=3)\n",
        "    knn.fit(X_norm[train], Y[train])\n",
        "    knn_predict = knn.predict(X_norm[test])\n",
        "    knn_report = classification_report(Y[test],knn_predict,target_names=le.inverse_transform(np.arange(len(apps))),digits=3,output_dict=True)\n",
        "    fold_accuracy = knn_report['accuracy']\n",
        "    print(fold_accuracy)\n",
        "    cm = confusion_matrix(Y[test],knn.predict(X_norm[test]))\n",
        "    tot_cm = tot_cm + cm;\n"
      ],
      "metadata": {
        "id": "2ZvUZs41ziCA",
        "colab": {
          "base_uri": "https://localhost:8080/",
          "height": 0
        },
        "outputId": "f5f1d289-522a-42aa-c785-d80c403ec572"
      },
      "execution_count": 5,
      "outputs": [
        {
          "output_type": "stream",
          "name": "stdout",
          "text": [
            "KNN\n",
            "0.8846153846153846\n",
            "0.8846153846153846\n",
            "0.96\n",
            "0.92\n",
            "0.92\n"
          ]
        }
      ]
    },
    {
      "cell_type": "markdown",
      "source": [
        "The confusion matrix is displayed."
      ],
      "metadata": {
        "id": "aTO1RjyIkr7_"
      }
    },
    {
      "cell_type": "code",
      "source": [
        "fig, ax = plt.subplots(figsize=(15, 15));\n",
        "ConfusionMatrixDisplay.from_predictions(knn_predict, Y[test], ax=ax, display_labels=le.inverse_transform(np.arange(len(apps))));\n"
      ],
      "metadata": {
        "id": "3-oKo0xYzFYF",
        "colab": {
          "base_uri": "https://localhost:8080/",
          "height": 1000
        },
        "outputId": "222bcd28-3002-4353-d507-a6eddd1a6913"
      },
      "execution_count": 6,
      "outputs": [
        {
          "output_type": "display_data",
          "data": {
            "text/plain": [
              "<Figure size 1500x1500 with 2 Axes>"
            ],
            "image/png": "[encoded data removed]"
          },
          "metadata": {}
        }
      ]
    }
  ]
}